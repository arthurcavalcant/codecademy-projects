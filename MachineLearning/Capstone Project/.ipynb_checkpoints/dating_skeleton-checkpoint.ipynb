{
 "cells": [
  {
   "cell_type": "code",
   "execution_count": 67,
   "metadata": {},
   "outputs": [],
   "source": [
    "import pandas as pd\n",
    "import numpy as np\n",
    "from matplotlib import pyplot as plt\n",
    "\n",
    "from sklearn.model_selection import train_test_split\n",
    "from sklearn.preprocessing import MinMaxScaler\n",
    "from sklearn.metrics import classification_report, accuracy_score, confusion_matrix\n",
    "\n",
    "from sklearn.neighbors import KNeighborsClassifier\n",
    "from sklearn.svm import SVC\n",
    "from sklearn.linear_model import LogisticRegression\n",
    "from sklearn.ensemble import RandomForestClassifier"
   ]
  },
  {
   "cell_type": "markdown",
   "metadata": {},
   "source": [
    "# Creating dataframe"
   ]
  },
  {
   "cell_type": "code",
   "execution_count": 2,
   "metadata": {},
   "outputs": [],
   "source": [
    "# Create dataframe\n",
    "dataframe = pd.read_csv(\"profiles.csv\")"
   ]
  },
  {
   "cell_type": "markdown",
   "metadata": {},
   "source": [
    "# Exploring the dataframe"
   ]
  },
  {
   "cell_type": "code",
   "execution_count": 3,
   "metadata": {},
   "outputs": [
    {
     "data": {
      "text/plain": [
       "(59946, 31)"
      ]
     },
     "execution_count": 3,
     "metadata": {},
     "output_type": "execute_result"
    }
   ],
   "source": [
    "dataframe.shape"
   ]
  },
  {
   "cell_type": "code",
   "execution_count": 4,
   "metadata": {},
   "outputs": [
    {
     "data": {
      "text/html": [
       "<div>\n",
       "<style scoped>\n",
       "    .dataframe tbody tr th:only-of-type {\n",
       "        vertical-align: middle;\n",
       "    }\n",
       "\n",
       "    .dataframe tbody tr th {\n",
       "        vertical-align: top;\n",
       "    }\n",
       "\n",
       "    .dataframe thead th {\n",
       "        text-align: right;\n",
       "    }\n",
       "</style>\n",
       "<table border=\"1\" class=\"dataframe\">\n",
       "  <thead>\n",
       "    <tr style=\"text-align: right;\">\n",
       "      <th></th>\n",
       "      <th>age</th>\n",
       "      <th>body_type</th>\n",
       "      <th>diet</th>\n",
       "      <th>drinks</th>\n",
       "      <th>drugs</th>\n",
       "      <th>education</th>\n",
       "      <th>essay0</th>\n",
       "      <th>essay1</th>\n",
       "      <th>essay2</th>\n",
       "      <th>essay3</th>\n",
       "      <th>...</th>\n",
       "      <th>location</th>\n",
       "      <th>offspring</th>\n",
       "      <th>orientation</th>\n",
       "      <th>pets</th>\n",
       "      <th>religion</th>\n",
       "      <th>sex</th>\n",
       "      <th>sign</th>\n",
       "      <th>smokes</th>\n",
       "      <th>speaks</th>\n",
       "      <th>status</th>\n",
       "    </tr>\n",
       "  </thead>\n",
       "  <tbody>\n",
       "    <tr>\n",
       "      <th>0</th>\n",
       "      <td>22</td>\n",
       "      <td>a little extra</td>\n",
       "      <td>strictly anything</td>\n",
       "      <td>socially</td>\n",
       "      <td>never</td>\n",
       "      <td>working on college/university</td>\n",
       "      <td>about me:&lt;br /&gt;\\n&lt;br /&gt;\\ni would love to think...</td>\n",
       "      <td>currently working as an international agent fo...</td>\n",
       "      <td>making people laugh.&lt;br /&gt;\\nranting about a go...</td>\n",
       "      <td>the way i look. i am a six foot half asian, ha...</td>\n",
       "      <td>...</td>\n",
       "      <td>south san francisco, california</td>\n",
       "      <td>doesn&amp;rsquo;t have kids, but might want them</td>\n",
       "      <td>straight</td>\n",
       "      <td>likes dogs and likes cats</td>\n",
       "      <td>agnosticism and very serious about it</td>\n",
       "      <td>m</td>\n",
       "      <td>gemini</td>\n",
       "      <td>sometimes</td>\n",
       "      <td>english</td>\n",
       "      <td>single</td>\n",
       "    </tr>\n",
       "    <tr>\n",
       "      <th>1</th>\n",
       "      <td>35</td>\n",
       "      <td>average</td>\n",
       "      <td>mostly other</td>\n",
       "      <td>often</td>\n",
       "      <td>sometimes</td>\n",
       "      <td>working on space camp</td>\n",
       "      <td>i am a chef: this is what that means.&lt;br /&gt;\\n1...</td>\n",
       "      <td>dedicating everyday to being an unbelievable b...</td>\n",
       "      <td>being silly. having ridiculous amonts of fun w...</td>\n",
       "      <td>NaN</td>\n",
       "      <td>...</td>\n",
       "      <td>oakland, california</td>\n",
       "      <td>doesn&amp;rsquo;t have kids, but might want them</td>\n",
       "      <td>straight</td>\n",
       "      <td>likes dogs and likes cats</td>\n",
       "      <td>agnosticism but not too serious about it</td>\n",
       "      <td>m</td>\n",
       "      <td>cancer</td>\n",
       "      <td>no</td>\n",
       "      <td>english (fluently), spanish (poorly), french (...</td>\n",
       "      <td>single</td>\n",
       "    </tr>\n",
       "    <tr>\n",
       "      <th>2</th>\n",
       "      <td>38</td>\n",
       "      <td>thin</td>\n",
       "      <td>anything</td>\n",
       "      <td>socially</td>\n",
       "      <td>NaN</td>\n",
       "      <td>graduated from masters program</td>\n",
       "      <td>i'm not ashamed of much, but writing public te...</td>\n",
       "      <td>i make nerdy software for musicians, artists, ...</td>\n",
       "      <td>improvising in different contexts. alternating...</td>\n",
       "      <td>my large jaw and large glasses are the physica...</td>\n",
       "      <td>...</td>\n",
       "      <td>san francisco, california</td>\n",
       "      <td>NaN</td>\n",
       "      <td>straight</td>\n",
       "      <td>has cats</td>\n",
       "      <td>NaN</td>\n",
       "      <td>m</td>\n",
       "      <td>pisces but it doesn&amp;rsquo;t matter</td>\n",
       "      <td>no</td>\n",
       "      <td>english, french, c++</td>\n",
       "      <td>available</td>\n",
       "    </tr>\n",
       "    <tr>\n",
       "      <th>3</th>\n",
       "      <td>23</td>\n",
       "      <td>thin</td>\n",
       "      <td>vegetarian</td>\n",
       "      <td>socially</td>\n",
       "      <td>NaN</td>\n",
       "      <td>working on college/university</td>\n",
       "      <td>i work in a library and go to school. . .</td>\n",
       "      <td>reading things written by old dead people</td>\n",
       "      <td>playing synthesizers and organizing books acco...</td>\n",
       "      <td>socially awkward but i do my best</td>\n",
       "      <td>...</td>\n",
       "      <td>berkeley, california</td>\n",
       "      <td>doesn&amp;rsquo;t want kids</td>\n",
       "      <td>straight</td>\n",
       "      <td>likes cats</td>\n",
       "      <td>NaN</td>\n",
       "      <td>m</td>\n",
       "      <td>pisces</td>\n",
       "      <td>no</td>\n",
       "      <td>english, german (poorly)</td>\n",
       "      <td>single</td>\n",
       "    </tr>\n",
       "    <tr>\n",
       "      <th>4</th>\n",
       "      <td>29</td>\n",
       "      <td>athletic</td>\n",
       "      <td>NaN</td>\n",
       "      <td>socially</td>\n",
       "      <td>never</td>\n",
       "      <td>graduated from college/university</td>\n",
       "      <td>hey how's it going? currently vague on the pro...</td>\n",
       "      <td>work work work work + play</td>\n",
       "      <td>creating imagery to look at:&lt;br /&gt;\\nhttp://bag...</td>\n",
       "      <td>i smile a lot and my inquisitive nature</td>\n",
       "      <td>...</td>\n",
       "      <td>san francisco, california</td>\n",
       "      <td>NaN</td>\n",
       "      <td>straight</td>\n",
       "      <td>likes dogs and likes cats</td>\n",
       "      <td>NaN</td>\n",
       "      <td>m</td>\n",
       "      <td>aquarius</td>\n",
       "      <td>no</td>\n",
       "      <td>english</td>\n",
       "      <td>single</td>\n",
       "    </tr>\n",
       "  </tbody>\n",
       "</table>\n",
       "<p>5 rows × 31 columns</p>\n",
       "</div>"
      ],
      "text/plain": [
       "   age       body_type               diet    drinks      drugs  \\\n",
       "0   22  a little extra  strictly anything  socially      never   \n",
       "1   35         average       mostly other     often  sometimes   \n",
       "2   38            thin           anything  socially        NaN   \n",
       "3   23            thin         vegetarian  socially        NaN   \n",
       "4   29        athletic                NaN  socially      never   \n",
       "\n",
       "                           education  \\\n",
       "0      working on college/university   \n",
       "1              working on space camp   \n",
       "2     graduated from masters program   \n",
       "3      working on college/university   \n",
       "4  graduated from college/university   \n",
       "\n",
       "                                              essay0  \\\n",
       "0  about me:<br />\\n<br />\\ni would love to think...   \n",
       "1  i am a chef: this is what that means.<br />\\n1...   \n",
       "2  i'm not ashamed of much, but writing public te...   \n",
       "3          i work in a library and go to school. . .   \n",
       "4  hey how's it going? currently vague on the pro...   \n",
       "\n",
       "                                              essay1  \\\n",
       "0  currently working as an international agent fo...   \n",
       "1  dedicating everyday to being an unbelievable b...   \n",
       "2  i make nerdy software for musicians, artists, ...   \n",
       "3          reading things written by old dead people   \n",
       "4                         work work work work + play   \n",
       "\n",
       "                                              essay2  \\\n",
       "0  making people laugh.<br />\\nranting about a go...   \n",
       "1  being silly. having ridiculous amonts of fun w...   \n",
       "2  improvising in different contexts. alternating...   \n",
       "3  playing synthesizers and organizing books acco...   \n",
       "4  creating imagery to look at:<br />\\nhttp://bag...   \n",
       "\n",
       "                                              essay3  ...  \\\n",
       "0  the way i look. i am a six foot half asian, ha...  ...   \n",
       "1                                                NaN  ...   \n",
       "2  my large jaw and large glasses are the physica...  ...   \n",
       "3                  socially awkward but i do my best  ...   \n",
       "4            i smile a lot and my inquisitive nature  ...   \n",
       "\n",
       "                          location  \\\n",
       "0  south san francisco, california   \n",
       "1              oakland, california   \n",
       "2        san francisco, california   \n",
       "3             berkeley, california   \n",
       "4        san francisco, california   \n",
       "\n",
       "                                      offspring orientation  \\\n",
       "0  doesn&rsquo;t have kids, but might want them    straight   \n",
       "1  doesn&rsquo;t have kids, but might want them    straight   \n",
       "2                                           NaN    straight   \n",
       "3                       doesn&rsquo;t want kids    straight   \n",
       "4                                           NaN    straight   \n",
       "\n",
       "                        pets                                  religion sex  \\\n",
       "0  likes dogs and likes cats     agnosticism and very serious about it   m   \n",
       "1  likes dogs and likes cats  agnosticism but not too serious about it   m   \n",
       "2                   has cats                                       NaN   m   \n",
       "3                 likes cats                                       NaN   m   \n",
       "4  likes dogs and likes cats                                       NaN   m   \n",
       "\n",
       "                                 sign     smokes  \\\n",
       "0                              gemini  sometimes   \n",
       "1                              cancer         no   \n",
       "2  pisces but it doesn&rsquo;t matter         no   \n",
       "3                              pisces         no   \n",
       "4                            aquarius         no   \n",
       "\n",
       "                                              speaks     status  \n",
       "0                                            english     single  \n",
       "1  english (fluently), spanish (poorly), french (...     single  \n",
       "2                               english, french, c++  available  \n",
       "3                           english, german (poorly)     single  \n",
       "4                                            english     single  \n",
       "\n",
       "[5 rows x 31 columns]"
      ]
     },
     "execution_count": 4,
     "metadata": {},
     "output_type": "execute_result"
    }
   ],
   "source": [
    "dataframe.head()"
   ]
  },
  {
   "cell_type": "code",
   "execution_count": 5,
   "metadata": {},
   "outputs": [
    {
     "name": "stdout",
     "output_type": "stream",
     "text": [
      "<class 'pandas.core.frame.DataFrame'>\n",
      "RangeIndex: 59946 entries, 0 to 59945\n",
      "Data columns (total 31 columns):\n",
      " #   Column       Non-Null Count  Dtype  \n",
      "---  ------       --------------  -----  \n",
      " 0   age          59946 non-null  int64  \n",
      " 1   body_type    54650 non-null  object \n",
      " 2   diet         35551 non-null  object \n",
      " 3   drinks       56961 non-null  object \n",
      " 4   drugs        45866 non-null  object \n",
      " 5   education    53318 non-null  object \n",
      " 6   essay0       54458 non-null  object \n",
      " 7   essay1       52374 non-null  object \n",
      " 8   essay2       50308 non-null  object \n",
      " 9   essay3       48470 non-null  object \n",
      " 10  essay4       49409 non-null  object \n",
      " 11  essay5       49096 non-null  object \n",
      " 12  essay6       46175 non-null  object \n",
      " 13  essay7       47495 non-null  object \n",
      " 14  essay8       40721 non-null  object \n",
      " 15  essay9       47343 non-null  object \n",
      " 16  ethnicity    54266 non-null  object \n",
      " 17  height       59943 non-null  float64\n",
      " 18  income       59946 non-null  int64  \n",
      " 19  job          51748 non-null  object \n",
      " 20  last_online  59946 non-null  object \n",
      " 21  location     59946 non-null  object \n",
      " 22  offspring    24385 non-null  object \n",
      " 23  orientation  59946 non-null  object \n",
      " 24  pets         40025 non-null  object \n",
      " 25  religion     39720 non-null  object \n",
      " 26  sex          59946 non-null  object \n",
      " 27  sign         48890 non-null  object \n",
      " 28  smokes       54434 non-null  object \n",
      " 29  speaks       59896 non-null  object \n",
      " 30  status       59946 non-null  object \n",
      "dtypes: float64(1), int64(2), object(28)\n",
      "memory usage: 14.2+ MB\n"
     ]
    }
   ],
   "source": [
    "dataframe.info()"
   ]
  },
  {
   "cell_type": "code",
   "execution_count": 6,
   "metadata": {},
   "outputs": [
    {
     "data": {
      "text/html": [
       "<div>\n",
       "<style scoped>\n",
       "    .dataframe tbody tr th:only-of-type {\n",
       "        vertical-align: middle;\n",
       "    }\n",
       "\n",
       "    .dataframe tbody tr th {\n",
       "        vertical-align: top;\n",
       "    }\n",
       "\n",
       "    .dataframe thead th {\n",
       "        text-align: right;\n",
       "    }\n",
       "</style>\n",
       "<table border=\"1\" class=\"dataframe\">\n",
       "  <thead>\n",
       "    <tr style=\"text-align: right;\">\n",
       "      <th></th>\n",
       "      <th>age</th>\n",
       "      <th>height</th>\n",
       "      <th>income</th>\n",
       "    </tr>\n",
       "  </thead>\n",
       "  <tbody>\n",
       "    <tr>\n",
       "      <th>count</th>\n",
       "      <td>59946.000000</td>\n",
       "      <td>59943.000000</td>\n",
       "      <td>59946.000000</td>\n",
       "    </tr>\n",
       "    <tr>\n",
       "      <th>mean</th>\n",
       "      <td>32.340290</td>\n",
       "      <td>68.295281</td>\n",
       "      <td>20033.222534</td>\n",
       "    </tr>\n",
       "    <tr>\n",
       "      <th>std</th>\n",
       "      <td>9.452779</td>\n",
       "      <td>3.994803</td>\n",
       "      <td>97346.192104</td>\n",
       "    </tr>\n",
       "    <tr>\n",
       "      <th>min</th>\n",
       "      <td>18.000000</td>\n",
       "      <td>1.000000</td>\n",
       "      <td>-1.000000</td>\n",
       "    </tr>\n",
       "    <tr>\n",
       "      <th>25%</th>\n",
       "      <td>26.000000</td>\n",
       "      <td>66.000000</td>\n",
       "      <td>-1.000000</td>\n",
       "    </tr>\n",
       "    <tr>\n",
       "      <th>50%</th>\n",
       "      <td>30.000000</td>\n",
       "      <td>68.000000</td>\n",
       "      <td>-1.000000</td>\n",
       "    </tr>\n",
       "    <tr>\n",
       "      <th>75%</th>\n",
       "      <td>37.000000</td>\n",
       "      <td>71.000000</td>\n",
       "      <td>-1.000000</td>\n",
       "    </tr>\n",
       "    <tr>\n",
       "      <th>max</th>\n",
       "      <td>110.000000</td>\n",
       "      <td>95.000000</td>\n",
       "      <td>1000000.000000</td>\n",
       "    </tr>\n",
       "  </tbody>\n",
       "</table>\n",
       "</div>"
      ],
      "text/plain": [
       "                age        height          income\n",
       "count  59946.000000  59943.000000    59946.000000\n",
       "mean      32.340290     68.295281    20033.222534\n",
       "std        9.452779      3.994803    97346.192104\n",
       "min       18.000000      1.000000       -1.000000\n",
       "25%       26.000000     66.000000       -1.000000\n",
       "50%       30.000000     68.000000       -1.000000\n",
       "75%       37.000000     71.000000       -1.000000\n",
       "max      110.000000     95.000000  1000000.000000"
      ]
     },
     "execution_count": 6,
     "metadata": {},
     "output_type": "execute_result"
    }
   ],
   "source": [
    "dataframe.describe()"
   ]
  },
  {
   "cell_type": "code",
   "execution_count": 7,
   "metadata": {},
   "outputs": [
    {
     "data": {
      "text/plain": [
       "{'age': 54,\n",
       " 'body_type': 12,\n",
       " 'diet': 18,\n",
       " 'drinks': 6,\n",
       " 'drugs': 3,\n",
       " 'education': 32,\n",
       " 'essay0': 54350,\n",
       " 'essay1': 51516,\n",
       " 'essay2': 48635,\n",
       " 'essay3': 43533,\n",
       " 'essay4': 49260,\n",
       " 'essay5': 48963,\n",
       " 'essay6': 43603,\n",
       " 'essay7': 45554,\n",
       " 'essay8': 39324,\n",
       " 'essay9': 45443,\n",
       " 'ethnicity': 217,\n",
       " 'height': 60,\n",
       " 'income': 13,\n",
       " 'job': 21,\n",
       " 'last_online': 30123,\n",
       " 'location': 199,\n",
       " 'offspring': 15,\n",
       " 'orientation': 3,\n",
       " 'pets': 15,\n",
       " 'religion': 45,\n",
       " 'sex': 2,\n",
       " 'sign': 48,\n",
       " 'smokes': 5,\n",
       " 'speaks': 7647,\n",
       " 'status': 5}"
      ]
     },
     "execution_count": 7,
     "metadata": {},
     "output_type": "execute_result"
    }
   ],
   "source": [
    "unique_values = {colum:dataframe[colum].nunique() for colum in dataframe.columns}\n",
    "unique_values"
   ]
  },
  {
   "cell_type": "code",
   "execution_count": 8,
   "metadata": {},
   "outputs": [
    {
     "data": {
      "image/png": "[encoded data removed]",
      "text/plain": [
       "<Figure size 432x288 with 1 Axes>"
      ]
     },
     "metadata": {
      "needs_background": "light"
     },
     "output_type": "display_data"
    }
   ],
   "source": [
    "# How are the users distributed by age?\n",
    "\n",
    "plt.hist(dataframe.age, bins=20)\n",
    "plt.xlabel(\"Age\")\n",
    "plt.ylabel(\"Frequency\")\n",
    "plt.xlim(16, 80)\n",
    "plt.show()"
   ]
  },
  {
   "cell_type": "code",
   "execution_count": 9,
   "metadata": {},
   "outputs": [
    {
     "data": {
      "text/plain": [
       "age                0\n",
       "body_type       5296\n",
       "diet           24395\n",
       "drinks          2985\n",
       "drugs          14080\n",
       "education       6628\n",
       "essay0          5488\n",
       "essay1          7572\n",
       "essay2          9638\n",
       "essay3         11476\n",
       "essay4         10537\n",
       "essay5         10850\n",
       "essay6         13771\n",
       "essay7         12451\n",
       "essay8         19225\n",
       "essay9         12603\n",
       "ethnicity       5680\n",
       "height             3\n",
       "income             0\n",
       "job             8198\n",
       "last_online        0\n",
       "location           0\n",
       "offspring      35561\n",
       "orientation        0\n",
       "pets           19921\n",
       "religion       20226\n",
       "sex                0\n",
       "sign           11056\n",
       "smokes          5512\n",
       "speaks            50\n",
       "status             0\n",
       "dtype: int64"
      ]
     },
     "execution_count": 9,
     "metadata": {},
     "output_type": "execute_result"
    }
   ],
   "source": [
    "dataframe.isna().sum()"
   ]
  },
  {
   "cell_type": "markdown",
   "metadata": {},
   "source": [
    "# Transforming some categorical columns to numerics"
   ]
  },
  {
   "cell_type": "code",
   "execution_count": 10,
   "metadata": {},
   "outputs": [],
   "source": [
    "dataframe_transformed = dataframe.copy()"
   ]
  },
  {
   "cell_type": "markdown",
   "metadata": {},
   "source": [
    "### Drinks"
   ]
  },
  {
   "cell_type": "code",
   "execution_count": 11,
   "metadata": {},
   "outputs": [
    {
     "data": {
      "text/plain": [
       "socially       41780\n",
       "rarely          5957\n",
       "often           5164\n",
       "not at all      3267\n",
       "very often       471\n",
       "desperately      322\n",
       "Name: drinks, dtype: int64"
      ]
     },
     "execution_count": 11,
     "metadata": {},
     "output_type": "execute_result"
    }
   ],
   "source": [
    "dataframe_transformed[\"drinks\"].value_counts()"
   ]
  },
  {
   "cell_type": "code",
   "execution_count": 12,
   "metadata": {},
   "outputs": [
    {
     "data": {
      "text/plain": [
       "2985"
      ]
     },
     "execution_count": 12,
     "metadata": {},
     "output_type": "execute_result"
    }
   ],
   "source": [
    "dataframe_transformed[\"drinks\"].isna().sum()"
   ]
  },
  {
   "cell_type": "code",
   "execution_count": 13,
   "metadata": {},
   "outputs": [],
   "source": [
    "dataframe_transformed[\"drinks\"].fillna(dataframe_transformed[\"drinks\"].mode().iloc[0], inplace=True)"
   ]
  },
  {
   "cell_type": "code",
   "execution_count": 14,
   "metadata": {},
   "outputs": [
    {
     "data": {
      "text/plain": [
       "0"
      ]
     },
     "execution_count": 14,
     "metadata": {},
     "output_type": "execute_result"
    }
   ],
   "source": [
    "dataframe_transformed[\"drinks\"].isna().sum()"
   ]
  },
  {
   "cell_type": "code",
   "execution_count": 15,
   "metadata": {},
   "outputs": [
    {
     "data": {
      "text/plain": [
       "2    44765\n",
       "1     5957\n",
       "3     5164\n",
       "0     3267\n",
       "4      471\n",
       "5      322\n",
       "Name: drinks_code, dtype: int64"
      ]
     },
     "execution_count": 15,
     "metadata": {},
     "output_type": "execute_result"
    }
   ],
   "source": [
    "drink_mapping = {\"not at all\": 0, \"rarely\": 1, \"socially\": 2, \"often\": 3, \"very often\": 4, \"desperately\": 5}\n",
    "dataframe_transformed[\"drinks_code\"] = dataframe_transformed[\"drinks\"].map(drink_mapping)\n",
    "dataframe_transformed[\"drinks_code\"].value_counts()"
   ]
  },
  {
   "cell_type": "markdown",
   "metadata": {},
   "source": [
    "### Smokes"
   ]
  },
  {
   "cell_type": "code",
   "execution_count": 16,
   "metadata": {},
   "outputs": [
    {
     "data": {
      "text/plain": [
       "no                43896\n",
       "sometimes          3787\n",
       "when drinking      3040\n",
       "yes                2231\n",
       "trying to quit     1480\n",
       "Name: smokes, dtype: int64"
      ]
     },
     "execution_count": 16,
     "metadata": {},
     "output_type": "execute_result"
    }
   ],
   "source": [
    "dataframe_transformed[\"smokes\"].value_counts()"
   ]
  },
  {
   "cell_type": "code",
   "execution_count": 17,
   "metadata": {},
   "outputs": [
    {
     "data": {
      "text/plain": [
       "5512"
      ]
     },
     "execution_count": 17,
     "metadata": {},
     "output_type": "execute_result"
    }
   ],
   "source": [
    "dataframe_transformed[\"smokes\"].isna().sum()"
   ]
  },
  {
   "cell_type": "code",
   "execution_count": 18,
   "metadata": {},
   "outputs": [],
   "source": [
    "dataframe_transformed[\"smokes\"].fillna(dataframe_transformed[\"smokes\"].mode().iloc[0], inplace=True)"
   ]
  },
  {
   "cell_type": "code",
   "execution_count": 19,
   "metadata": {},
   "outputs": [
    {
     "data": {
      "text/plain": [
       "0"
      ]
     },
     "execution_count": 19,
     "metadata": {},
     "output_type": "execute_result"
    }
   ],
   "source": [
    "dataframe_transformed[\"smokes\"].isna().sum()"
   ]
  },
  {
   "cell_type": "code",
   "execution_count": 20,
   "metadata": {},
   "outputs": [
    {
     "data": {
      "text/plain": [
       "0    49408\n",
       "3     3787\n",
       "2     3040\n",
       "4     2231\n",
       "1     1480\n",
       "Name: smokes_code, dtype: int64"
      ]
     },
     "execution_count": 20,
     "metadata": {},
     "output_type": "execute_result"
    }
   ],
   "source": [
    "smoke_mapping = {\"no\": 0, \"trying to quit\": 1, \"when drinking\": 2, \"sometimes\": 3, \"yes\": 4}\n",
    "dataframe_transformed[\"smokes_code\"] = dataframe_transformed[\"smokes\"].map(smoke_mapping)\n",
    "dataframe_transformed[\"smokes_code\"].value_counts()"
   ]
  },
  {
   "cell_type": "markdown",
   "metadata": {},
   "source": [
    "### Sex"
   ]
  },
  {
   "cell_type": "code",
   "execution_count": 21,
   "metadata": {},
   "outputs": [
    {
     "data": {
      "text/plain": [
       "m    35829\n",
       "f    24117\n",
       "Name: sex, dtype: int64"
      ]
     },
     "execution_count": 21,
     "metadata": {},
     "output_type": "execute_result"
    }
   ],
   "source": [
    "dataframe_transformed[\"sex\"].value_counts()"
   ]
  },
  {
   "cell_type": "code",
   "execution_count": 22,
   "metadata": {},
   "outputs": [
    {
     "data": {
      "text/plain": [
       "0"
      ]
     },
     "execution_count": 22,
     "metadata": {},
     "output_type": "execute_result"
    }
   ],
   "source": [
    "dataframe_transformed[\"sex\"].isna().sum()"
   ]
  },
  {
   "cell_type": "code",
   "execution_count": 23,
   "metadata": {},
   "outputs": [
    {
     "data": {
      "text/plain": [
       "0    35829\n",
       "1    24117\n",
       "Name: sex_code, dtype: int64"
      ]
     },
     "execution_count": 23,
     "metadata": {},
     "output_type": "execute_result"
    }
   ],
   "source": [
    "sex_mapping = {\"m\": 0, \"f\": 1}\n",
    "dataframe_transformed[\"sex_code\"] = dataframe_transformed[\"sex\"].map(sex_mapping)\n",
    "dataframe_transformed[\"sex_code\"].value_counts()"
   ]
  },
  {
   "cell_type": "markdown",
   "metadata": {},
   "source": [
    "### Orientation"
   ]
  },
  {
   "cell_type": "code",
   "execution_count": 24,
   "metadata": {},
   "outputs": [
    {
     "data": {
      "text/plain": [
       "straight    51606\n",
       "gay          5573\n",
       "bisexual     2767\n",
       "Name: orientation, dtype: int64"
      ]
     },
     "execution_count": 24,
     "metadata": {},
     "output_type": "execute_result"
    }
   ],
   "source": [
    "dataframe_transformed[\"orientation\"].value_counts()"
   ]
  },
  {
   "cell_type": "code",
   "execution_count": 25,
   "metadata": {},
   "outputs": [
    {
     "data": {
      "text/plain": [
       "0"
      ]
     },
     "execution_count": 25,
     "metadata": {},
     "output_type": "execute_result"
    }
   ],
   "source": [
    "dataframe_transformed[\"orientation\"].isna().sum()"
   ]
  },
  {
   "cell_type": "code",
   "execution_count": 26,
   "metadata": {},
   "outputs": [],
   "source": [
    "dataframe_transformed = pd.concat([dataframe_transformed, pd.get_dummies(dataframe_transformed[\"orientation\"], prefix=\"orientation\")], axis=1)"
   ]
  },
  {
   "cell_type": "markdown",
   "metadata": {},
   "source": [
    "### Drugs"
   ]
  },
  {
   "cell_type": "code",
   "execution_count": 27,
   "metadata": {},
   "outputs": [
    {
     "data": {
      "text/plain": [
       "never        37724\n",
       "sometimes     7732\n",
       "often          410\n",
       "Name: drugs, dtype: int64"
      ]
     },
     "execution_count": 27,
     "metadata": {},
     "output_type": "execute_result"
    }
   ],
   "source": [
    "dataframe_transformed[\"drugs\"].value_counts()"
   ]
  },
  {
   "cell_type": "code",
   "execution_count": 28,
   "metadata": {},
   "outputs": [
    {
     "data": {
      "text/plain": [
       "14080"
      ]
     },
     "execution_count": 28,
     "metadata": {},
     "output_type": "execute_result"
    }
   ],
   "source": [
    "dataframe_transformed[\"drugs\"].isna().sum()"
   ]
  },
  {
   "cell_type": "code",
   "execution_count": 29,
   "metadata": {},
   "outputs": [],
   "source": [
    "dataframe_transformed[\"drugs\"].fillna(dataframe_transformed[\"drugs\"].mode().iloc[0], inplace=True)"
   ]
  },
  {
   "cell_type": "code",
   "execution_count": 30,
   "metadata": {},
   "outputs": [
    {
     "data": {
      "text/plain": [
       "0"
      ]
     },
     "execution_count": 30,
     "metadata": {},
     "output_type": "execute_result"
    }
   ],
   "source": [
    "dataframe_transformed[\"drugs\"].isna().sum()"
   ]
  },
  {
   "cell_type": "code",
   "execution_count": 31,
   "metadata": {},
   "outputs": [
    {
     "data": {
      "text/plain": [
       "0    51804\n",
       "1     7732\n",
       "2      410\n",
       "Name: drugs_code, dtype: int64"
      ]
     },
     "execution_count": 31,
     "metadata": {},
     "output_type": "execute_result"
    }
   ],
   "source": [
    "drug_mapping = {\"never\": 0, \"sometimes\": 1, \"often\": 2}\n",
    "dataframe_transformed[\"drugs_code\"] = dataframe_transformed[\"drugs\"].map(drug_mapping)\n",
    "dataframe_transformed[\"drugs_code\"].value_counts()"
   ]
  },
  {
   "cell_type": "markdown",
   "metadata": {},
   "source": [
    "### Status"
   ]
  },
  {
   "cell_type": "code",
   "execution_count": 32,
   "metadata": {},
   "outputs": [
    {
     "data": {
      "text/plain": [
       "single            55697\n",
       "seeing someone     2064\n",
       "available          1865\n",
       "married             310\n",
       "unknown              10\n",
       "Name: status, dtype: int64"
      ]
     },
     "execution_count": 32,
     "metadata": {},
     "output_type": "execute_result"
    }
   ],
   "source": [
    "dataframe_transformed[\"status\"].value_counts()"
   ]
  },
  {
   "cell_type": "code",
   "execution_count": 33,
   "metadata": {},
   "outputs": [
    {
     "data": {
      "text/plain": [
       "0"
      ]
     },
     "execution_count": 33,
     "metadata": {},
     "output_type": "execute_result"
    }
   ],
   "source": [
    "dataframe_transformed[\"status\"].isna().sum()"
   ]
  },
  {
   "cell_type": "code",
   "execution_count": 34,
   "metadata": {},
   "outputs": [
    {
     "data": {
      "text/plain": [
       "1    55697\n",
       "3     2064\n",
       "2     1865\n",
       "4      310\n",
       "0       10\n",
       "Name: status_code, dtype: int64"
      ]
     },
     "execution_count": 34,
     "metadata": {},
     "output_type": "execute_result"
    }
   ],
   "source": [
    "status_mapping = {\"unknown\": 0,  \"single\": 1, \"available\": 2, \"seeing someone\": 3, \"married\": 4}\n",
    "dataframe_transformed[\"status_code\"] = dataframe_transformed[\"status\"].map(status_mapping)\n",
    "dataframe_transformed[\"status_code\"].value_counts()"
   ]
  },
  {
   "cell_type": "markdown",
   "metadata": {},
   "source": [
    "### Education"
   ]
  },
  {
   "cell_type": "code",
   "execution_count": 35,
   "metadata": {},
   "outputs": [
    {
     "data": {
      "text/plain": [
       "graduated from college/university    23959\n",
       "graduated from masters program        8961\n",
       "working on college/university         5712\n",
       "working on masters program            1683\n",
       "graduated from two-year college       1531\n",
       "graduated from high school            1428\n",
       "graduated from ph.d program           1272\n",
       "graduated from law school             1122\n",
       "working on two-year college           1074\n",
       "dropped out of college/university      995\n",
       "working on ph.d program                983\n",
       "college/university                     801\n",
       "graduated from space camp              657\n",
       "dropped out of space camp              523\n",
       "graduated from med school              446\n",
       "working on space camp                  445\n",
       "working on law school                  269\n",
       "two-year college                       222\n",
       "working on med school                  212\n",
       "dropped out of two-year college        191\n",
       "dropped out of masters program         140\n",
       "masters program                        136\n",
       "dropped out of ph.d program            127\n",
       "dropped out of high school             102\n",
       "high school                             96\n",
       "working on high school                  87\n",
       "space camp                              58\n",
       "ph.d program                            26\n",
       "law school                              19\n",
       "dropped out of law school               18\n",
       "dropped out of med school               12\n",
       "med school                              11\n",
       "Name: education, dtype: int64"
      ]
     },
     "execution_count": 35,
     "metadata": {},
     "output_type": "execute_result"
    }
   ],
   "source": [
    "dataframe_transformed[\"education\"].value_counts()"
   ]
  },
  {
   "cell_type": "code",
   "execution_count": 36,
   "metadata": {},
   "outputs": [
    {
     "data": {
      "text/plain": [
       "6628"
      ]
     },
     "execution_count": 36,
     "metadata": {},
     "output_type": "execute_result"
    }
   ],
   "source": [
    "dataframe_transformed[\"education\"].isna().sum()"
   ]
  },
  {
   "cell_type": "code",
   "execution_count": 37,
   "metadata": {},
   "outputs": [],
   "source": [
    "dataframe_transformed[\"education\"].fillna(dataframe_transformed[\"education\"].mode().iloc[0], inplace=True)"
   ]
  },
  {
   "cell_type": "code",
   "execution_count": 38,
   "metadata": {},
   "outputs": [
    {
     "data": {
      "text/plain": [
       "0"
      ]
     },
     "execution_count": 38,
     "metadata": {},
     "output_type": "execute_result"
    }
   ],
   "source": [
    "dataframe_transformed[\"education\"].isna().sum()"
   ]
  },
  {
   "cell_type": "code",
   "execution_count": 39,
   "metadata": {},
   "outputs": [
    {
     "data": {
      "text/plain": [
       "9     30587\n",
       "12     8961\n",
       "24     5712\n",
       "27     1683\n",
       "16     1531\n",
       "10     1428\n",
       "14     1272\n",
       "11     1122\n",
       "31     1074\n",
       "1       995\n",
       "29      983\n",
       "0       801\n",
       "15      657\n",
       "7       523\n",
       "13      446\n",
       "30      445\n",
       "26      269\n",
       "23      222\n",
       "28      212\n",
       "8       191\n",
       "4       140\n",
       "19      136\n",
       "6       127\n",
       "2       102\n",
       "17       96\n",
       "25       87\n",
       "22       58\n",
       "21       26\n",
       "18       19\n",
       "3        18\n",
       "5        12\n",
       "20       11\n",
       "Name: education, dtype: int64"
      ]
     },
     "execution_count": 39,
     "metadata": {},
     "output_type": "execute_result"
    }
   ],
   "source": [
    "dataframe_transformed[\"education\"] = dataframe_transformed[\"education\"].astype('category')\n",
    "dataframe_transformed[\"education\"] = pd.to_numeric(dataframe_transformed[\"education\"].cat.codes)\n",
    "dataframe_transformed[\"education\"].value_counts()"
   ]
  },
  {
   "cell_type": "markdown",
   "metadata": {},
   "source": [
    "### Income"
   ]
  },
  {
   "cell_type": "code",
   "execution_count": 40,
   "metadata": {},
   "outputs": [
    {
     "data": {
      "text/plain": [
       "-1          48442\n",
       " 20000       2952\n",
       " 100000      1621\n",
       " 80000       1111\n",
       " 30000       1048\n",
       " 40000       1005\n",
       " 50000        975\n",
       " 60000        736\n",
       " 70000        707\n",
       " 150000       631\n",
       " 1000000      521\n",
       " 250000       149\n",
       " 500000        48\n",
       "Name: income, dtype: int64"
      ]
     },
     "execution_count": 40,
     "metadata": {},
     "output_type": "execute_result"
    }
   ],
   "source": [
    "dataframe_transformed[\"income\"].value_counts()"
   ]
  },
  {
   "cell_type": "code",
   "execution_count": 41,
   "metadata": {},
   "outputs": [
    {
     "data": {
      "text/plain": [
       "0"
      ]
     },
     "execution_count": 41,
     "metadata": {},
     "output_type": "execute_result"
    }
   ],
   "source": [
    "dataframe_transformed[\"income\"].isna().sum()"
   ]
  },
  {
   "cell_type": "code",
   "execution_count": 42,
   "metadata": {},
   "outputs": [],
   "source": [
    "dataframe_transformed[\"income\"] = pd.to_numeric(dataframe_transformed[\"income\"])"
   ]
  },
  {
   "cell_type": "markdown",
   "metadata": {},
   "source": [
    "### Height"
   ]
  },
  {
   "cell_type": "code",
   "execution_count": 43,
   "metadata": {},
   "outputs": [
    {
     "data": {
      "text/plain": [
       "70.0    6074\n",
       "68.0    5449\n",
       "67.0    5354\n",
       "72.0    5315\n",
       "69.0    5179\n",
       "71.0    4826\n",
       "66.0    4759\n",
       "64.0    3865\n",
       "65.0    3794\n",
       "73.0    2815\n",
       "63.0    2767\n",
       "74.0    2547\n",
       "62.0    2244\n",
       "75.0    1382\n",
       "61.0    1090\n",
       "60.0     791\n",
       "76.0     783\n",
       "77.0     280\n",
       "59.0     212\n",
       "78.0     132\n",
       "79.0      57\n",
       "58.0      53\n",
       "80.0      27\n",
       "95.0      20\n",
       "57.0      17\n",
       "83.0      12\n",
       "36.0      11\n",
       "81.0      11\n",
       "82.0      11\n",
       "84.0       9\n",
       "56.0       8\n",
       "55.0       6\n",
       "53.0       5\n",
       "54.0       3\n",
       "94.0       3\n",
       "91.0       3\n",
       "50.0       2\n",
       "43.0       2\n",
       "37.0       2\n",
       "48.0       2\n",
       "88.0       2\n",
       "8.0        1\n",
       "93.0       1\n",
       "4.0        1\n",
       "49.0       1\n",
       "1.0        1\n",
       "42.0       1\n",
       "86.0       1\n",
       "47.0       1\n",
       "87.0       1\n",
       "90.0       1\n",
       "52.0       1\n",
       "9.0        1\n",
       "51.0       1\n",
       "89.0       1\n",
       "6.0        1\n",
       "3.0        1\n",
       "92.0       1\n",
       "85.0       1\n",
       "26.0       1\n",
       "Name: height, dtype: int64"
      ]
     },
     "execution_count": 43,
     "metadata": {},
     "output_type": "execute_result"
    }
   ],
   "source": [
    "dataframe_transformed[\"height\"].value_counts()"
   ]
  },
  {
   "cell_type": "code",
   "execution_count": 44,
   "metadata": {},
   "outputs": [
    {
     "data": {
      "text/plain": [
       "3"
      ]
     },
     "execution_count": 44,
     "metadata": {},
     "output_type": "execute_result"
    }
   ],
   "source": [
    "dataframe_transformed[\"height\"].isna().sum()"
   ]
  },
  {
   "cell_type": "code",
   "execution_count": 45,
   "metadata": {},
   "outputs": [],
   "source": [
    "dataframe_transformed[\"height\"].fillna(dataframe_transformed[\"height\"].mode().iloc[0], inplace=True)"
   ]
  },
  {
   "cell_type": "code",
   "execution_count": 46,
   "metadata": {},
   "outputs": [
    {
     "data": {
      "text/plain": [
       "0"
      ]
     },
     "execution_count": 46,
     "metadata": {},
     "output_type": "execute_result"
    }
   ],
   "source": [
    "dataframe_transformed[\"height\"].isna().sum()"
   ]
  },
  {
   "cell_type": "markdown",
   "metadata": {},
   "source": [
    "## Just checking"
   ]
  },
  {
   "cell_type": "code",
   "execution_count": 47,
   "metadata": {},
   "outputs": [
    {
     "name": "stdout",
     "output_type": "stream",
     "text": [
      "<class 'pandas.core.frame.DataFrame'>\n",
      "RangeIndex: 59946 entries, 0 to 59945\n",
      "Data columns (total 39 columns):\n",
      " #   Column                Non-Null Count  Dtype  \n",
      "---  ------                --------------  -----  \n",
      " 0   age                   59946 non-null  int64  \n",
      " 1   body_type             54650 non-null  object \n",
      " 2   diet                  35551 non-null  object \n",
      " 3   drinks                59946 non-null  object \n",
      " 4   drugs                 59946 non-null  object \n",
      " 5   education             59946 non-null  int8   \n",
      " 6   essay0                54458 non-null  object \n",
      " 7   essay1                52374 non-null  object \n",
      " 8   essay2                50308 non-null  object \n",
      " 9   essay3                48470 non-null  object \n",
      " 10  essay4                49409 non-null  object \n",
      " 11  essay5                49096 non-null  object \n",
      " 12  essay6                46175 non-null  object \n",
      " 13  essay7                47495 non-null  object \n",
      " 14  essay8                40721 non-null  object \n",
      " 15  essay9                47343 non-null  object \n",
      " 16  ethnicity             54266 non-null  object \n",
      " 17  height                59946 non-null  float64\n",
      " 18  income                59946 non-null  int64  \n",
      " 19  job                   51748 non-null  object \n",
      " 20  last_online           59946 non-null  object \n",
      " 21  location              59946 non-null  object \n",
      " 22  offspring             24385 non-null  object \n",
      " 23  orientation           59946 non-null  object \n",
      " 24  pets                  40025 non-null  object \n",
      " 25  religion              39720 non-null  object \n",
      " 26  sex                   59946 non-null  object \n",
      " 27  sign                  48890 non-null  object \n",
      " 28  smokes                59946 non-null  object \n",
      " 29  speaks                59896 non-null  object \n",
      " 30  status                59946 non-null  object \n",
      " 31  drinks_code           59946 non-null  int64  \n",
      " 32  smokes_code           59946 non-null  int64  \n",
      " 33  sex_code              59946 non-null  int64  \n",
      " 34  orientation_bisexual  59946 non-null  uint8  \n",
      " 35  orientation_gay       59946 non-null  uint8  \n",
      " 36  orientation_straight  59946 non-null  uint8  \n",
      " 37  drugs_code            59946 non-null  int64  \n",
      " 38  status_code           59946 non-null  int64  \n",
      "dtypes: float64(1), int64(7), int8(1), object(27), uint8(3)\n",
      "memory usage: 16.2+ MB\n"
     ]
    }
   ],
   "source": [
    "dataframe_transformed.info()"
   ]
  },
  {
   "cell_type": "code",
   "execution_count": 48,
   "metadata": {},
   "outputs": [
    {
     "data": {
      "text/plain": [
       "age                         0\n",
       "body_type                5296\n",
       "diet                    24395\n",
       "drinks                      0\n",
       "drugs                       0\n",
       "education                   0\n",
       "essay0                   5488\n",
       "essay1                   7572\n",
       "essay2                   9638\n",
       "essay3                  11476\n",
       "essay4                  10537\n",
       "essay5                  10850\n",
       "essay6                  13771\n",
       "essay7                  12451\n",
       "essay8                  19225\n",
       "essay9                  12603\n",
       "ethnicity                5680\n",
       "height                      0\n",
       "income                      0\n",
       "job                      8198\n",
       "last_online                 0\n",
       "location                    0\n",
       "offspring               35561\n",
       "orientation                 0\n",
       "pets                    19921\n",
       "religion                20226\n",
       "sex                         0\n",
       "sign                    11056\n",
       "smokes                      0\n",
       "speaks                     50\n",
       "status                      0\n",
       "drinks_code                 0\n",
       "smokes_code                 0\n",
       "sex_code                    0\n",
       "orientation_bisexual        0\n",
       "orientation_gay             0\n",
       "orientation_straight        0\n",
       "drugs_code                  0\n",
       "status_code                 0\n",
       "dtype: int64"
      ]
     },
     "execution_count": 48,
     "metadata": {},
     "output_type": "execute_result"
    }
   ],
   "source": [
    "dataframe_transformed.isna().sum()"
   ]
  },
  {
   "cell_type": "markdown",
   "metadata": {},
   "source": [
    "# Getting ready for train"
   ]
  },
  {
   "cell_type": "code",
   "execution_count": 49,
   "metadata": {},
   "outputs": [
    {
     "data": {
      "text/html": [
       "<div>\n",
       "<style scoped>\n",
       "    .dataframe tbody tr th:only-of-type {\n",
       "        vertical-align: middle;\n",
       "    }\n",
       "\n",
       "    .dataframe tbody tr th {\n",
       "        vertical-align: top;\n",
       "    }\n",
       "\n",
       "    .dataframe thead th {\n",
       "        text-align: right;\n",
       "    }\n",
       "</style>\n",
       "<table border=\"1\" class=\"dataframe\">\n",
       "  <thead>\n",
       "    <tr style=\"text-align: right;\">\n",
       "      <th></th>\n",
       "      <th>age</th>\n",
       "      <th>education</th>\n",
       "      <th>height</th>\n",
       "      <th>income</th>\n",
       "      <th>drinks_code</th>\n",
       "      <th>smokes_code</th>\n",
       "      <th>sex_code</th>\n",
       "      <th>orientation_bisexual</th>\n",
       "      <th>orientation_gay</th>\n",
       "      <th>orientation_straight</th>\n",
       "      <th>drugs_code</th>\n",
       "      <th>status_code</th>\n",
       "    </tr>\n",
       "  </thead>\n",
       "  <tbody>\n",
       "    <tr>\n",
       "      <th>age</th>\n",
       "      <td>1.000000</td>\n",
       "      <td>-0.214694</td>\n",
       "      <td>-0.022254</td>\n",
       "      <td>-0.001004</td>\n",
       "      <td>-0.121848</td>\n",
       "      <td>-0.146607</td>\n",
       "      <td>0.041481</td>\n",
       "      <td>-0.070325</td>\n",
       "      <td>-0.003783</td>\n",
       "      <td>0.045812</td>\n",
       "      <td>-0.116448</td>\n",
       "      <td>-0.020003</td>\n",
       "    </tr>\n",
       "    <tr>\n",
       "      <th>education</th>\n",
       "      <td>-0.214694</td>\n",
       "      <td>1.000000</td>\n",
       "      <td>-0.017340</td>\n",
       "      <td>0.000046</td>\n",
       "      <td>-0.029685</td>\n",
       "      <td>0.066576</td>\n",
       "      <td>0.019885</td>\n",
       "      <td>0.047811</td>\n",
       "      <td>0.025688</td>\n",
       "      <td>-0.050542</td>\n",
       "      <td>0.029444</td>\n",
       "      <td>0.014446</td>\n",
       "    </tr>\n",
       "    <tr>\n",
       "      <th>height</th>\n",
       "      <td>-0.022254</td>\n",
       "      <td>-0.017340</td>\n",
       "      <td>1.000000</td>\n",
       "      <td>0.065044</td>\n",
       "      <td>0.034094</td>\n",
       "      <td>0.032024</td>\n",
       "      <td>-0.655432</td>\n",
       "      <td>-0.090718</td>\n",
       "      <td>0.028516</td>\n",
       "      <td>0.031076</td>\n",
       "      <td>0.053620</td>\n",
       "      <td>-0.004307</td>\n",
       "    </tr>\n",
       "    <tr>\n",
       "      <th>income</th>\n",
       "      <td>-0.001004</td>\n",
       "      <td>0.000046</td>\n",
       "      <td>0.065044</td>\n",
       "      <td>1.000000</td>\n",
       "      <td>0.041062</td>\n",
       "      <td>0.038702</td>\n",
       "      <td>-0.074601</td>\n",
       "      <td>0.011128</td>\n",
       "      <td>-0.021852</td>\n",
       "      <td>0.011589</td>\n",
       "      <td>0.073223</td>\n",
       "      <td>0.013476</td>\n",
       "    </tr>\n",
       "    <tr>\n",
       "      <th>drinks_code</th>\n",
       "      <td>-0.121848</td>\n",
       "      <td>-0.029685</td>\n",
       "      <td>0.034094</td>\n",
       "      <td>0.041062</td>\n",
       "      <td>1.000000</td>\n",
       "      <td>0.134742</td>\n",
       "      <td>-0.007298</td>\n",
       "      <td>-0.000446</td>\n",
       "      <td>-0.015353</td>\n",
       "      <td>0.013153</td>\n",
       "      <td>0.170442</td>\n",
       "      <td>-0.002695</td>\n",
       "    </tr>\n",
       "    <tr>\n",
       "      <th>smokes_code</th>\n",
       "      <td>-0.146607</td>\n",
       "      <td>0.066576</td>\n",
       "      <td>0.032024</td>\n",
       "      <td>0.038702</td>\n",
       "      <td>0.134742</td>\n",
       "      <td>1.000000</td>\n",
       "      <td>-0.035024</td>\n",
       "      <td>0.078576</td>\n",
       "      <td>0.023222</td>\n",
       "      <td>-0.067126</td>\n",
       "      <td>0.293509</td>\n",
       "      <td>0.012585</td>\n",
       "    </tr>\n",
       "    <tr>\n",
       "      <th>sex_code</th>\n",
       "      <td>0.041481</td>\n",
       "      <td>0.019885</td>\n",
       "      <td>-0.655432</td>\n",
       "      <td>-0.074601</td>\n",
       "      <td>-0.007298</td>\n",
       "      <td>-0.035024</td>\n",
       "      <td>1.000000</td>\n",
       "      <td>0.143127</td>\n",
       "      <td>-0.076627</td>\n",
       "      <td>-0.022483</td>\n",
       "      <td>-0.045163</td>\n",
       "      <td>0.021318</td>\n",
       "    </tr>\n",
       "    <tr>\n",
       "      <th>orientation_bisexual</th>\n",
       "      <td>-0.070325</td>\n",
       "      <td>0.047811</td>\n",
       "      <td>-0.090718</td>\n",
       "      <td>0.011128</td>\n",
       "      <td>-0.000446</td>\n",
       "      <td>0.078576</td>\n",
       "      <td>0.143127</td>\n",
       "      <td>1.000000</td>\n",
       "      <td>-0.070427</td>\n",
       "      <td>-0.547209</td>\n",
       "      <td>0.126390</td>\n",
       "      <td>0.158557</td>\n",
       "    </tr>\n",
       "    <tr>\n",
       "      <th>orientation_gay</th>\n",
       "      <td>-0.003783</td>\n",
       "      <td>0.025688</td>\n",
       "      <td>0.028516</td>\n",
       "      <td>-0.021852</td>\n",
       "      <td>-0.015353</td>\n",
       "      <td>0.023222</td>\n",
       "      <td>-0.076627</td>\n",
       "      <td>-0.070427</td>\n",
       "      <td>1.000000</td>\n",
       "      <td>-0.796379</td>\n",
       "      <td>0.000147</td>\n",
       "      <td>0.030187</td>\n",
       "    </tr>\n",
       "    <tr>\n",
       "      <th>orientation_straight</th>\n",
       "      <td>0.045812</td>\n",
       "      <td>-0.050542</td>\n",
       "      <td>0.031076</td>\n",
       "      <td>0.011589</td>\n",
       "      <td>0.013153</td>\n",
       "      <td>-0.067126</td>\n",
       "      <td>-0.022483</td>\n",
       "      <td>-0.547209</td>\n",
       "      <td>-0.796379</td>\n",
       "      <td>1.000000</td>\n",
       "      <td>-0.076754</td>\n",
       "      <td>-0.121463</td>\n",
       "    </tr>\n",
       "    <tr>\n",
       "      <th>drugs_code</th>\n",
       "      <td>-0.116448</td>\n",
       "      <td>0.029444</td>\n",
       "      <td>0.053620</td>\n",
       "      <td>0.073223</td>\n",
       "      <td>0.170442</td>\n",
       "      <td>0.293509</td>\n",
       "      <td>-0.045163</td>\n",
       "      <td>0.126390</td>\n",
       "      <td>0.000147</td>\n",
       "      <td>-0.076754</td>\n",
       "      <td>1.000000</td>\n",
       "      <td>0.076425</td>\n",
       "    </tr>\n",
       "    <tr>\n",
       "      <th>status_code</th>\n",
       "      <td>-0.020003</td>\n",
       "      <td>0.014446</td>\n",
       "      <td>-0.004307</td>\n",
       "      <td>0.013476</td>\n",
       "      <td>-0.002695</td>\n",
       "      <td>0.012585</td>\n",
       "      <td>0.021318</td>\n",
       "      <td>0.158557</td>\n",
       "      <td>0.030187</td>\n",
       "      <td>-0.121463</td>\n",
       "      <td>0.076425</td>\n",
       "      <td>1.000000</td>\n",
       "    </tr>\n",
       "  </tbody>\n",
       "</table>\n",
       "</div>"
      ],
      "text/plain": [
       "                           age  education    height    income  drinks_code  \\\n",
       "age                   1.000000  -0.214694 -0.022254 -0.001004    -0.121848   \n",
       "education            -0.214694   1.000000 -0.017340  0.000046    -0.029685   \n",
       "height               -0.022254  -0.017340  1.000000  0.065044     0.034094   \n",
       "income               -0.001004   0.000046  0.065044  1.000000     0.041062   \n",
       "drinks_code          -0.121848  -0.029685  0.034094  0.041062     1.000000   \n",
       "smokes_code          -0.146607   0.066576  0.032024  0.038702     0.134742   \n",
       "sex_code              0.041481   0.019885 -0.655432 -0.074601    -0.007298   \n",
       "orientation_bisexual -0.070325   0.047811 -0.090718  0.011128    -0.000446   \n",
       "orientation_gay      -0.003783   0.025688  0.028516 -0.021852    -0.015353   \n",
       "orientation_straight  0.045812  -0.050542  0.031076  0.011589     0.013153   \n",
       "drugs_code           -0.116448   0.029444  0.053620  0.073223     0.170442   \n",
       "status_code          -0.020003   0.014446 -0.004307  0.013476    -0.002695   \n",
       "\n",
       "                      smokes_code  sex_code  orientation_bisexual  \\\n",
       "age                     -0.146607  0.041481             -0.070325   \n",
       "education                0.066576  0.019885              0.047811   \n",
       "height                   0.032024 -0.655432             -0.090718   \n",
       "income                   0.038702 -0.074601              0.011128   \n",
       "drinks_code              0.134742 -0.007298             -0.000446   \n",
       "smokes_code              1.000000 -0.035024              0.078576   \n",
       "sex_code                -0.035024  1.000000              0.143127   \n",
       "orientation_bisexual     0.078576  0.143127              1.000000   \n",
       "orientation_gay          0.023222 -0.076627             -0.070427   \n",
       "orientation_straight    -0.067126 -0.022483             -0.547209   \n",
       "drugs_code               0.293509 -0.045163              0.126390   \n",
       "status_code              0.012585  0.021318              0.158557   \n",
       "\n",
       "                      orientation_gay  orientation_straight  drugs_code  \\\n",
       "age                         -0.003783              0.045812   -0.116448   \n",
       "education                    0.025688             -0.050542    0.029444   \n",
       "height                       0.028516              0.031076    0.053620   \n",
       "income                      -0.021852              0.011589    0.073223   \n",
       "drinks_code                 -0.015353              0.013153    0.170442   \n",
       "smokes_code                  0.023222             -0.067126    0.293509   \n",
       "sex_code                    -0.076627             -0.022483   -0.045163   \n",
       "orientation_bisexual        -0.070427             -0.547209    0.126390   \n",
       "orientation_gay              1.000000             -0.796379    0.000147   \n",
       "orientation_straight        -0.796379              1.000000   -0.076754   \n",
       "drugs_code                   0.000147             -0.076754    1.000000   \n",
       "status_code                  0.030187             -0.121463    0.076425   \n",
       "\n",
       "                      status_code  \n",
       "age                     -0.020003  \n",
       "education                0.014446  \n",
       "height                  -0.004307  \n",
       "income                   0.013476  \n",
       "drinks_code             -0.002695  \n",
       "smokes_code              0.012585  \n",
       "sex_code                 0.021318  \n",
       "orientation_bisexual     0.158557  \n",
       "orientation_gay          0.030187  \n",
       "orientation_straight    -0.121463  \n",
       "drugs_code               0.076425  \n",
       "status_code              1.000000  "
      ]
     },
     "execution_count": 49,
     "metadata": {},
     "output_type": "execute_result"
    }
   ],
   "source": [
    "dataframe_transformed.corr()"
   ]
  },
  {
   "cell_type": "code",
   "execution_count": 102,
   "metadata": {},
   "outputs": [
    {
     "data": {
      "text/plain": [
       "0    35829\n",
       "1    24117\n",
       "Name: sex_code, dtype: int64"
      ]
     },
     "execution_count": 102,
     "metadata": {},
     "output_type": "execute_result"
    }
   ],
   "source": [
    "feature_data = dataframe_transformed[['smokes_code', 'drugs_code', 'orientation_gay', 'status_code',\n",
    "                                   'orientation_bisexual', 'orientation_straight', 'age', 'education', 'income', 'height']]\n",
    "\n",
    "x_values = feature_data.values\n",
    "min_max_scaler = MinMaxScaler()\n",
    "x_scaled = min_max_scaler.fit_transform(x_values)\n",
    "y = dataframe_transformed[\"sex_code\"]\n",
    "\n",
    "y.value_counts()"
   ]
  },
  {
   "cell_type": "code",
   "execution_count": 103,
   "metadata": {},
   "outputs": [],
   "source": [
    "feature_data = pd.DataFrame(x_scaled, columns=feature_data.columns)\n",
    "x_train, x_test, y_train, y_test = train_test_split(feature_data, y, test_size=0.2, random_state=42)"
   ]
  },
  {
   "cell_type": "markdown",
   "metadata": {},
   "source": [
    "# Trying to predict gender using K Nearest Neighbors"
   ]
  },
  {
   "cell_type": "code",
   "execution_count": 104,
   "metadata": {},
   "outputs": [],
   "source": [
    "classifier_knn = KNeighborsClassifier()\n",
    "classifier_knn.fit(x_train, y_train)\n",
    "y_predicted = classifier_knn.predict(x_test)"
   ]
  },
  {
   "cell_type": "code",
   "execution_count": 105,
   "metadata": {},
   "outputs": [
    {
     "data": {
      "text/plain": [
       "0.8137614678899082"
      ]
     },
     "execution_count": 105,
     "metadata": {},
     "output_type": "execute_result"
    }
   ],
   "source": [
    "accuracy_score(y_predicted, y_test)"
   ]
  },
  {
   "cell_type": "code",
   "execution_count": 106,
   "metadata": {},
   "outputs": [
    {
     "name": "stdout",
     "output_type": "stream",
     "text": [
      "              precision    recall  f1-score   support\n",
      "\n",
      "           0       0.85      0.83      0.84      7247\n",
      "           1       0.76      0.78      0.77      4743\n",
      "\n",
      "    accuracy                           0.81     11990\n",
      "   macro avg       0.80      0.81      0.81     11990\n",
      "weighted avg       0.82      0.81      0.81     11990\n",
      "\n"
     ]
    }
   ],
   "source": [
    "print(classification_report(y_predicted, y_test))"
   ]
  },
  {
   "cell_type": "code",
   "execution_count": 107,
   "metadata": {},
   "outputs": [
    {
     "name": "stdout",
     "output_type": "stream",
     "text": [
      "[[6044 1203]\n",
      " [1030 3713]]\n"
     ]
    }
   ],
   "source": [
    "print(confusion_matrix(y_predicted, y_test))"
   ]
  },
  {
   "cell_type": "markdown",
   "metadata": {},
   "source": [
    "# Trying to predict gender using SVM"
   ]
  },
  {
   "cell_type": "code",
   "execution_count": 108,
   "metadata": {},
   "outputs": [],
   "source": [
    "classifier_svm = SVC()\n",
    "classifier_svm.fit(x_train, y_train)\n",
    "y_predicted = classifier_svm.predict(x_test)"
   ]
  },
  {
   "cell_type": "code",
   "execution_count": 109,
   "metadata": {},
   "outputs": [
    {
     "data": {
      "text/plain": [
       "0.841117597998332"
      ]
     },
     "execution_count": 109,
     "metadata": {},
     "output_type": "execute_result"
    }
   ],
   "source": [
    "accuracy_score(y_predicted, y_test)"
   ]
  },
  {
   "cell_type": "code",
   "execution_count": 110,
   "metadata": {},
   "outputs": [
    {
     "name": "stdout",
     "output_type": "stream",
     "text": [
      "              precision    recall  f1-score   support\n",
      "\n",
      "           0       0.89      0.85      0.87      7361\n",
      "           1       0.78      0.83      0.80      4629\n",
      "\n",
      "    accuracy                           0.84     11990\n",
      "   macro avg       0.83      0.84      0.83     11990\n",
      "weighted avg       0.84      0.84      0.84     11990\n",
      "\n"
     ]
    }
   ],
   "source": [
    "print(classification_report(y_predicted, y_test))"
   ]
  },
  {
   "cell_type": "markdown",
   "metadata": {},
   "source": [
    "# Trying to predict gender using Logistic Regression"
   ]
  },
  {
   "cell_type": "code",
   "execution_count": 111,
   "metadata": {},
   "outputs": [],
   "source": [
    "classifier_logistic_reg = LogisticRegression()\n",
    "classifier_logistic_reg.fit(x_train, y_train)\n",
    "y_predicted = classifier_logistic_reg.predict(x_test)"
   ]
  },
  {
   "cell_type": "code",
   "execution_count": 112,
   "metadata": {},
   "outputs": [
    {
     "data": {
      "text/plain": [
       "0.8394495412844036"
      ]
     },
     "execution_count": 112,
     "metadata": {},
     "output_type": "execute_result"
    }
   ],
   "source": [
    "accuracy_score(y_predicted, y_test)"
   ]
  },
  {
   "cell_type": "code",
   "execution_count": 113,
   "metadata": {},
   "outputs": [
    {
     "name": "stdout",
     "output_type": "stream",
     "text": [
      "              precision    recall  f1-score   support\n",
      "\n",
      "           0       0.89      0.84      0.87      7497\n",
      "           1       0.76      0.83      0.80      4493\n",
      "\n",
      "    accuracy                           0.84     11990\n",
      "   macro avg       0.83      0.84      0.83     11990\n",
      "weighted avg       0.84      0.84      0.84     11990\n",
      "\n"
     ]
    }
   ],
   "source": [
    "print(classification_report(y_predicted, y_test))"
   ]
  },
  {
   "cell_type": "markdown",
   "metadata": {},
   "source": [
    "# Trying to predict gender using Random Forest Classifier"
   ]
  },
  {
   "cell_type": "code",
   "execution_count": 114,
   "metadata": {},
   "outputs": [],
   "source": [
    "classifier_random_forest = RandomForestClassifier()\n",
    "classifier_random_forest.fit(x_train, y_train)\n",
    "y_predicted = classifier_random_forest.predict(x_test)"
   ]
  },
  {
   "cell_type": "code",
   "execution_count": 115,
   "metadata": {},
   "outputs": [
    {
     "data": {
      "text/plain": [
       "0.8248540450375312"
      ]
     },
     "execution_count": 115,
     "metadata": {},
     "output_type": "execute_result"
    }
   ],
   "source": [
    "accuracy_score(y_predicted, y_test)"
   ]
  },
  {
   "cell_type": "code",
   "execution_count": 116,
   "metadata": {},
   "outputs": [
    {
     "name": "stdout",
     "output_type": "stream",
     "text": [
      "              precision    recall  f1-score   support\n",
      "\n",
      "           0       0.87      0.84      0.85      7274\n",
      "           1       0.77      0.80      0.78      4716\n",
      "\n",
      "    accuracy                           0.82     11990\n",
      "   macro avg       0.82      0.82      0.82     11990\n",
      "weighted avg       0.83      0.82      0.83     11990\n",
      "\n"
     ]
    }
   ],
   "source": [
    "print(classification_report(y_predicted, y_test))"
   ]
  },
  {
   "cell_type": "markdown",
   "metadata": {},
   "source": [
    "# Conclusion"
   ]
  },
  {
   "cell_type": "markdown",
   "metadata": {},
   "source": [
    "### The best algorithm using the default configuration in predicting the gender was the Support Vector Machine with an accuracy of 84%."
   ]
  },
  {
   "cell_type": "code",
   "execution_count": null,
   "metadata": {},
   "outputs": [],
   "source": []
  }
 ],
 "metadata": {
  "kernelspec": {
   "display_name": "Python 3",
   "language": "python",
   "name": "python3"
  },
  "language_info": {
   "codemirror_mode": {
    "name": "ipython",
    "version": 3
   },
   "file_extension": ".py",
   "mimetype": "text/x-python",
   "name": "python",
   "nbconvert_exporter": "python",
   "pygments_lexer": "ipython3",
   "version": "3.7.7"
  }
 },
 "nbformat": 4,
 "nbformat_minor": 4
}
